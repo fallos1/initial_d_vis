{
 "cells": [
  {
   "cell_type": "code",
   "execution_count": null,
   "metadata": {},
   "outputs": [],
   "source": [
    "import json\n",
    "import requests\n",
    "\n",
    "import pandas as pd\n",
    "\n",
    "import torch\n",
    "from transformers import AutoTokenizer, AutoModelForSequenceClassification\n",
    "\n",
    "import time\n"
   ]
  },
  {
   "cell_type": "code",
   "execution_count": null,
   "metadata": {},
   "outputs": [],
   "source": [
    "characters = [\"Itsuki+Takeuchi\", \n",
    "              \"Natsuki+Mogi\", \n",
    "              \"Takumi+Fujiwara\", \n",
    "              \"Keisuke+Takahashi\", \n",
    "              \"Ryosuke+Takahashi\",\n",
    "              \"Koichiro+Iketani\",\n",
    "              \"Kenji\",\n",
    "              \"Bunta+Fujiwara\"]\n",
    "url = \"https://initiald.fandom.com/wikia.php?controller=ArticleCommentsController&method=getComments&title={CHARACTER}&namespace=0&hideDeleted=true/\"\n"
   ]
  },
  {
   "cell_type": "code",
   "execution_count": null,
   "metadata": {},
   "outputs": [],
   "source": [
    "character_comments = []\n",
    "for char in characters:\n",
    "    character_name = char.replace(\"+\", \" \")\n",
    "    response = requests.get(url.replace(\"{CHARACTER}\", char))\n",
    "    thread = json.loads(response.text)[\"threads\"]\n",
    "    for comment in thread:\n",
    "        firstPost = comment[\"firstPost\"]\n",
    "        if \"jsonModel\" in firstPost:\n",
    "            jsonModel = json.loads(firstPost[\"jsonModel\"])\n",
    "            if \"content\" in jsonModel:\n",
    "                content = jsonModel[\"content\"]\n",
    "                for i in content:\n",
    "                    if \"content\" in i:\n",
    "                        character_comments.append((character_name, i[\"content\"][0][\"text\"]))\n",
    "        else:\n",
    "            character_comments.append((character_name, firstPost[\"renderedContent\"]))\n",
    "    time.sleep(2)\n"
   ]
  },
  {
   "cell_type": "code",
   "execution_count": null,
   "metadata": {},
   "outputs": [],
   "source": [
    "tokenizer = AutoTokenizer.from_pretrained('nlptown/bert-base-multilingual-uncased-sentiment')\n",
    "model = AutoModelForSequenceClassification.from_pretrained('nlptown/bert-base-multilingual-uncased-sentiment')"
   ]
  },
  {
   "cell_type": "code",
   "execution_count": null,
   "metadata": {},
   "outputs": [],
   "source": [
    "def sentiment_score(para):\n",
    "    tokens = tokenizer.encode(para, return_tensors=\"pt\")\n",
    "    result = model(tokens)\n",
    "    return int(torch.argmax(result.logits))+1\n",
    "    \n",
    "comments_df = pd.DataFrame(character_comments, columns=[\"character\", \"sentence\"])\n",
    "comments_df['sentiment'] = comments_df['sentence'].apply(lambda x: sentiment_score(x[0: 500]))\n"
   ]
  },
  {
   "cell_type": "code",
   "execution_count": null,
   "metadata": {},
   "outputs": [],
   "source": [
    "comments_df.groupby(\"character\").mean()"
   ]
  }
 ],
 "metadata": {
  "language_info": {
   "name": "python"
  },
  "orig_nbformat": 4
 },
 "nbformat": 4,
 "nbformat_minor": 2
}
